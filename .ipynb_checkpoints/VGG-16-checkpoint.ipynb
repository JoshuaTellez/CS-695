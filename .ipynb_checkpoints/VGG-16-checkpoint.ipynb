{
 "cells": [
  {
   "cell_type": "code",
   "execution_count": 12,
   "metadata": {},
   "outputs": [],
   "source": [
    "#Keras Modules used\n",
    "from keras.preprocessing.image import ImageDataGenerator\n",
    "from keras.models import Sequential\n",
    "from keras.layers import Conv2D, MaxPooling2D\n",
    "from keras.layers import Activation, Dropout, Flatten, Dense\n",
    "from keras import backend as k\n"
   ]
  },
  {
   "cell_type": "code",
   "execution_count": 20,
   "metadata": {},
   "outputs": [],
   "source": [
    "img_width = 1024\n",
    "img_height = 1024\n",
    "train_data_dir = '/home/josh/Documents/Data/Training'\n",
    "testing_data_dir = '/home/josh/Documents/Data/Testing'\n",
    "\n",
    "nb_train_samples = 15506\n",
    "nb_test_samples = 2023\n",
    "\n",
    "epochs = 30\n",
    "batch_size = 4"
   ]
  },
  {
   "cell_type": "code",
   "execution_count": 21,
   "metadata": {},
   "outputs": [],
   "source": [
    "if k.image_data_format() == 'channels_first':\n",
    "    input_shape = (3, img_width, img_height)\n",
    "else:\n",
    "    input_shape = (img_width, img_height, 3)"
   ]
  },
  {
   "cell_type": "code",
   "execution_count": 22,
   "metadata": {},
   "outputs": [],
   "source": [
    "model = Sequential()\n",
    "model.add(Conv2D(32, (3, 3), input_shape=input_shape))\n",
    "model.add(Activation('relu'))\n",
    "model.add(MaxPooling2D(pool_size=(2, 2)))\n",
    "\n",
    "model.add(Conv2D(32, (3, 3)))\n",
    "model.add(Activation('relu'))\n",
    "model.add(MaxPooling2D(pool_size=(2, 2)))\n",
    "\n",
    "model.add(Conv2D(64, (3, 3)))\n",
    "model.add(Activation('relu'))\n",
    "model.add(MaxPooling2D(pool_size=(2, 2)))\n",
    "\n",
    "model.add(Flatten())\n",
    "model.add(Dense(64))\n",
    "model.add(Activation('relu'))\n",
    "model.add(Dropout(0.5))\n",
    "model.add(Dense(1))\n",
    "model.add(Activation('sigmoid'))\n",
    "\n",
    "model.compile(loss='binary_crossentropy',\n",
    "              optimizer='rmsprop',\n",
    "              metrics=['accuracy'])\n"
   ]
  },
  {
   "cell_type": "code",
   "execution_count": 23,
   "metadata": {},
   "outputs": [],
   "source": [
    "# this is the augmentation configuration we will use for training\n",
    "train_datagen = ImageDataGenerator(rescale=1. / 255)\n",
    "test_datagen = ImageDataGenerator(rescale=1. / 255)"
   ]
  },
  {
   "cell_type": "code",
   "execution_count": 24,
   "metadata": {},
   "outputs": [
    {
     "name": "stdout",
     "output_type": "stream",
     "text": [
      "Found 15506 images belonging to 2 classes.\n",
      "Found 2023 images belonging to 2 classes.\n",
      "Epoch 1/30\n",
      "3876/3876 [==============================] - 780s 201ms/step - loss: 3.4813 - acc: 0.7118 - val_loss: 4.7716 - val_acc: 0.7040\n",
      "Epoch 2/30\n",
      "3876/3876 [==============================] - 787s 203ms/step - loss: 4.7272 - acc: 0.7045 - val_loss: 4.7716 - val_acc: 0.7040\n",
      "Epoch 3/30\n",
      "3876/3876 [==============================] - 786s 203ms/step - loss: 4.7375 - acc: 0.7040 - val_loss: 4.7716 - val_acc: 0.7040\n",
      "Epoch 4/30\n",
      "3876/3876 [==============================] - 786s 203ms/step - loss: 4.7423 - acc: 0.7045 - val_loss: 4.7716 - val_acc: 0.7040\n",
      "Epoch 5/30\n",
      "3876/3876 [==============================] - 783s 202ms/step - loss: 4.7327 - acc: 0.7043 - val_loss: 4.7716 - val_acc: 0.7040\n",
      "Epoch 6/30\n",
      "3876/3876 [==============================] - 785s 203ms/step - loss: 4.7302 - acc: 0.7041 - val_loss: 4.7716 - val_acc: 0.7040\n",
      "Epoch 7/30\n",
      "3876/3876 [==============================] - 791s 204ms/step - loss: 4.7301 - acc: 0.7043 - val_loss: 4.7716 - val_acc: 0.7040\n",
      "Epoch 8/30\n",
      "3876/3876 [==============================] - 783s 202ms/step - loss: 4.7337 - acc: 0.7043 - val_loss: 4.7716 - val_acc: 0.7040\n",
      "Epoch 9/30\n",
      "3876/3876 [==============================] - 787s 203ms/step - loss: 4.7219 - acc: 0.7045 - val_loss: 4.7716 - val_acc: 0.7040\n",
      "Epoch 10/30\n",
      "3876/3876 [==============================] - 790s 204ms/step - loss: 4.7398 - acc: 0.7042 - val_loss: 4.7716 - val_acc: 0.7040\n",
      "Epoch 11/30\n",
      "3876/3876 [==============================] - 792s 204ms/step - loss: 4.7292 - acc: 0.7041 - val_loss: 4.7716 - val_acc: 0.7040\n",
      "Epoch 12/30\n",
      "3876/3876 [==============================] - 790s 204ms/step - loss: 4.7402 - acc: 0.7046 - val_loss: 4.7716 - val_acc: 0.7040\n",
      "Epoch 13/30\n",
      "3876/3876 [==============================] - 787s 203ms/step - loss: 4.7366 - acc: 0.7045 - val_loss: 4.7716 - val_acc: 0.7040\n",
      "Epoch 14/30\n",
      "3876/3876 [==============================] - 788s 203ms/step - loss: 4.7388 - acc: 0.7043 - val_loss: 4.7716 - val_acc: 0.7040\n",
      "Epoch 15/30\n",
      "3876/3876 [==============================] - 792s 204ms/step - loss: 4.7430 - acc: 0.7040 - val_loss: 4.7716 - val_acc: 0.7040\n",
      "Epoch 16/30\n",
      "3876/3876 [==============================] - 789s 204ms/step - loss: 4.7302 - acc: 0.7047 - val_loss: 4.7716 - val_acc: 0.7040\n",
      "Epoch 17/30\n",
      "3876/3876 [==============================] - 792s 204ms/step - loss: 4.7374 - acc: 0.7041 - val_loss: 4.7716 - val_acc: 0.7040\n",
      "Epoch 18/30\n",
      "3876/3876 [==============================] - 784s 202ms/step - loss: 4.7416 - acc: 0.7043 - val_loss: 4.7716 - val_acc: 0.7040\n",
      "Epoch 19/30\n",
      "3876/3876 [==============================] - 790s 204ms/step - loss: 4.7413 - acc: 0.7042 - val_loss: 4.7716 - val_acc: 0.7040\n",
      "Epoch 20/30\n",
      "3876/3876 [==============================] - 789s 203ms/step - loss: 4.7430 - acc: 0.7039 - val_loss: 4.7716 - val_acc: 0.7040\n",
      "Epoch 21/30\n",
      "3876/3876 [==============================] - 786s 203ms/step - loss: 4.7250 - acc: 0.7052 - val_loss: 4.7716 - val_acc: 0.7040\n",
      "Epoch 22/30\n",
      "3876/3876 [==============================] - 786s 203ms/step - loss: 4.7452 - acc: 0.7038 - val_loss: 4.7716 - val_acc: 0.7040\n",
      "Epoch 23/30\n",
      "3876/3876 [==============================] - 791s 204ms/step - loss: 4.7221 - acc: 0.7046 - val_loss: 4.7716 - val_acc: 0.7040\n",
      "Epoch 24/30\n",
      "3876/3876 [==============================] - 793s 205ms/step - loss: 4.7422 - acc: 0.7040 - val_loss: 4.7716 - val_acc: 0.7040\n",
      "Epoch 25/30\n",
      "3876/3876 [==============================] - 792s 204ms/step - loss: 4.7310 - acc: 0.7047 - val_loss: 4.7716 - val_acc: 0.7040\n",
      "Epoch 26/30\n",
      "3876/3876 [==============================] - 829s 214ms/step - loss: 4.7326 - acc: 0.7045 - val_loss: 4.7716 - val_acc: 0.7040\n",
      "Epoch 27/30\n",
      "3876/3876 [==============================] - 790s 204ms/step - loss: 4.7374 - acc: 0.7034 - val_loss: 4.7716 - val_acc: 0.7040\n",
      "Epoch 28/30\n",
      "3876/3876 [==============================] - 790s 204ms/step - loss: 4.7253 - acc: 0.7053 - val_loss: 4.7716 - val_acc: 0.7040\n",
      "Epoch 29/30\n",
      "3876/3876 [==============================] - 783s 202ms/step - loss: 4.7340 - acc: 0.7041 - val_loss: 4.7716 - val_acc: 0.7040\n",
      "Epoch 30/30\n",
      "3876/3876 [==============================] - 788s 203ms/step - loss: 4.7349 - acc: 0.7047 - val_loss: 4.7716 - val_acc: 0.7040\n"
     ]
    }
   ],
   "source": [
    "train_generator = train_datagen.flow_from_directory(\n",
    "    train_data_dir,\n",
    "    target_size=(img_width, img_height),\n",
    "    batch_size=batch_size,\n",
    "    class_mode='binary')\n",
    "\n",
    "validation_generator = test_datagen.flow_from_directory(\n",
    "    testing_data_dir,\n",
    "    target_size=(img_width, img_height),\n",
    "    batch_size=batch_size,\n",
    "    class_mode='binary')\n",
    "\n",
    "model.fit_generator(\n",
    "    train_generator,\n",
    "    steps_per_epoch=nb_train_samples // batch_size,\n",
    "    epochs=epochs,\n",
    "    validation_data=validation_generator,\n",
    "    validation_steps=nb_test_samples // batch_size)\n",
    "\n",
    "model.save_weights('first_try.h5')"
   ]
  },
  {
   "cell_type": "code",
   "execution_count": null,
   "metadata": {},
   "outputs": [],
   "source": []
  }
 ],
 "metadata": {
  "kernelspec": {
   "display_name": "Python 3",
   "language": "python",
   "name": "python3"
  },
  "language_info": {
   "codemirror_mode": {
    "name": "ipython",
    "version": 3
   },
   "file_extension": ".py",
   "mimetype": "text/x-python",
   "name": "python",
   "nbconvert_exporter": "python",
   "pygments_lexer": "ipython3",
   "version": "3.6.5"
  }
 },
 "nbformat": 4,
 "nbformat_minor": 1
}
